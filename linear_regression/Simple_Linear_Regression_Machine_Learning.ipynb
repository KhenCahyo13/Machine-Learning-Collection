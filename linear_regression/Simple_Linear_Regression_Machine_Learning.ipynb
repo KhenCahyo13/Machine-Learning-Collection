{
  "nbformat": 4,
  "nbformat_minor": 0,
  "metadata": {
    "colab": {
      "provenance": [],
      "authorship_tag": "ABX9TyOoRG4Id1clasBhg2/ffKy1",
      "include_colab_link": true
    },
    "kernelspec": {
      "name": "python3",
      "display_name": "Python 3"
    },
    "language_info": {
      "name": "python"
    }
  },
  "cells": [
    {
      "cell_type": "markdown",
      "metadata": {
        "id": "view-in-github",
        "colab_type": "text"
      },
      "source": [
        "<a href=\"https://colab.research.google.com/github/KhenCahyo13/Machine-Learning-Collection/blob/main/linear_regression/Simple_Linear_Regression_Machine_Learning.ipynb\" target=\"_parent\"><img src=\"https://colab.research.google.com/assets/colab-badge.svg\" alt=\"Open In Colab\"/></a>"
      ]
    },
    {
      "cell_type": "markdown",
      "source": [
        "Prediction of land prices in Jakarta based on land size (m2) with the Simple Linear Regression method and 2023 dataset."
      ],
      "metadata": {
        "id": "tGv57aQOMEcB"
      }
    },
    {
      "cell_type": "markdown",
      "source": [
        "# Create a Model"
      ],
      "metadata": {
        "id": "3SFFcyJJS62h"
      }
    },
    {
      "cell_type": "code",
      "source": [
        "import pandas as pd;\n",
        "import matplotlib.pyplot as plt;\n",
        "from sklearn.metrics import mean_absolute_error, mean_squared_error;\n",
        "\n",
        "dataurl = 'https://docs.google.com/spreadsheets/d/e/2PACX-1vS6e0ZMDAvPT5XANEB4P7WE52UEB7TxbqeQn2JLK4VpDTa4D9OkPLgY3guSXUg8j1hgoWeBmsLuqdQy/pub?gid=0&single=true&output=csv';\n",
        "data = pd.read_csv(dataurl);\n",
        "\n",
        "# Count mean from Land Prices (y) and Land Size (x)\n",
        "mean_y = data['price(rp)'].mean(); # Dependen variable\n",
        "mean_x = data['size(m2)'].mean(); # Independen variable\n",
        "\n",
        "# Count Slope Coefficient -> Slope, Beta 1\n",
        "data['Xi - X'] = data['size(m2)'] - mean_x;\n",
        "data['Yi - Y'] = data['price(rp)'] - mean_y;\n",
        "data['(Xi - X)(Yi - Y)'] = data['Xi - X'] * data['Yi - Y'];\n",
        "data['(Xi - X)^2'] = data['Xi - X'] ** 2;\n",
        "\n",
        "sum_Xi_X_Yi_Y = data['(Xi - X)(Yi - Y)'].sum();\n",
        "sum_Xi_X_sq = data['(Xi - X)^2'].sum();\n",
        "\n",
        "beta_1 = sum_Xi_X_Yi_Y / sum_Xi_X_sq;\n",
        "\n",
        "# Count Intercept -> Intercept, Beta 0\n",
        "beta_0 = mean_y - beta_1 * mean_x\n",
        "\n",
        "print(f'Linear Regression Model: Land Prices = {beta_0} + {beta_1} * Land Size')"
      ],
      "metadata": {
        "colab": {
          "base_uri": "https://localhost:8080/"
        },
        "id": "7lsZv3pYNY_c",
        "outputId": "b601efee-9a0d-4e0e-eb01-623a805c2f92"
      },
      "execution_count": null,
      "outputs": [
        {
          "output_type": "stream",
          "name": "stdout",
          "text": [
            "Linear Regression Model: Land Prices = 0.0 + 15500000.0 * Land Size\n"
          ]
        }
      ]
    },
    {
      "cell_type": "markdown",
      "source": [
        "# Create a Function for Prediction"
      ],
      "metadata": {
        "id": "2m-3E-pnTNo4"
      }
    },
    {
      "cell_type": "code",
      "source": [
        "def predict_price(size):\n",
        "  return beta_0 + beta_1 * size;"
      ],
      "metadata": {
        "id": "USsxp4S5TRz3"
      },
      "execution_count": null,
      "outputs": []
    },
    {
      "cell_type": "markdown",
      "source": [
        "# Price Prediction"
      ],
      "metadata": {
        "id": "5WKGgnpOTZaw"
      }
    },
    {
      "cell_type": "code",
      "source": [
        "size = 610;\n",
        "predicted_price = predict_price(size);\n",
        "print(f'Land Price prediction by Land Size {size} m2 is Rp{predicted_price}')"
      ],
      "metadata": {
        "colab": {
          "base_uri": "https://localhost:8080/"
        },
        "id": "9bjK2PVJTcbt",
        "outputId": "e602397e-46a6-4a50-f6eb-44536a1fefea"
      },
      "execution_count": null,
      "outputs": [
        {
          "output_type": "stream",
          "name": "stdout",
          "text": [
            "Land Price prediction by Land Size 610 m2 is Rp9455000000.0\n"
          ]
        }
      ]
    },
    {
      "cell_type": "markdown",
      "source": [
        "# Model Accuration"
      ],
      "metadata": {
        "id": "U-9KSpQHYbIU"
      }
    },
    {
      "cell_type": "code",
      "source": [
        "# Count prediction for all data\n",
        "predicted_prices = data['size(m2)'].apply(predict_price);\n",
        "\n",
        "# Actual Value\n",
        "actual_prices = data['price(rp)'];\n",
        "\n",
        "# Count MAE and MSE\n",
        "mae = mean_absolute_error(actual_prices, predicted_prices);\n",
        "mse = mean_squared_error(actual_prices, predicted_prices);\n",
        "\n",
        "print(f'Mean Absolute Error (MAE): {mae}');\n",
        "print(f'Mean Squared Error (MSE): {mse}');"
      ],
      "metadata": {
        "colab": {
          "base_uri": "https://localhost:8080/"
        },
        "id": "R-7836WEYe-l",
        "outputId": "66af91bc-26d6-4b07-9c33-58b5ca14b7c7"
      },
      "execution_count": null,
      "outputs": [
        {
          "output_type": "stream",
          "name": "stdout",
          "text": [
            "Mean Absolute Error (MAE): 0.0\n",
            "Mean Squared Error (MSE): 0.0\n"
          ]
        }
      ]
    },
    {
      "cell_type": "markdown",
      "source": [
        "\n",
        "# Regression Line Visualization\n",
        "\n"
      ],
      "metadata": {
        "id": "w_dwOB7rc9l4"
      }
    },
    {
      "cell_type": "code",
      "source": [
        "plt.scatter(data['size(m2)'], data['price(rp)'], color='blue', label='Actual Data');\n",
        "plt.plot(data['size(m2)'], predicted_prices, color='red', label='Regression Line');\n",
        "\n",
        "plt.xlabel('Land Size (m2)');\n",
        "plt.ylabel('Land Price (Rp)');\n",
        "plt.title('Regression Line for Land Price Prediction');\n",
        "plt.legend();\n",
        "\n",
        "plt.show();"
      ],
      "metadata": {
        "colab": {
          "base_uri": "https://localhost:8080/",
          "height": 472
        },
        "id": "xjyBAgVNdKGA",
        "outputId": "fded517f-91f0-4135-eaf5-2f1dd1d32fc0"
      },
      "execution_count": null,
      "outputs": [
        {
          "output_type": "display_data",
          "data": {
            "text/plain": [
              "<Figure size 640x480 with 1 Axes>"
            ],
            "image/png": "[encoded data removed]"
          },
          "metadata": {}
        }
      ]
    }
  ]
}